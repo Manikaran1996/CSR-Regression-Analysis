{
 "cells": [
  {
   "cell_type": "code",
   "execution_count": 4,
   "metadata": {},
   "outputs": [],
   "source": [
    "import pandas as pd\n",
    "import requests\n",
    "from bs4 import BeautifulSoup"
   ]
  },
  {
   "cell_type": "code",
   "execution_count": 2,
   "metadata": {},
   "outputs": [],
   "source": [
    "url = 'http://www.pmindia.gov.in/en/assets-and-liabilities-of-the-union-council-of-ministers-2014-2015/'"
   ]
  },
  {
   "cell_type": "code",
   "execution_count": 3,
   "metadata": {},
   "outputs": [],
   "source": [
    "html = requests.get(url).text"
   ]
  },
  {
   "cell_type": "code",
   "execution_count": 6,
   "metadata": {},
   "outputs": [],
   "source": [
    "soup = BeautifulSoup(html, 'html.parser')"
   ]
  },
  {
   "cell_type": "code",
   "execution_count": 29,
   "metadata": {},
   "outputs": [],
   "source": [
    "table = soup.find('table')\n",
    "rows = table.findAll('tr')\n",
    "data = []\n",
    "for r in rows:\n",
    "    cols = r.findAll(['td', 'th'])\n",
    "    temp = []\n",
    "    for c in cols:\n",
    "        temp.append(c.text.strip())\n",
    "    data.append(temp)"
   ]
  },
  {
   "cell_type": "code",
   "execution_count": 30,
   "metadata": {},
   "outputs": [],
   "source": [
    "data = list(map(lambda x: x[1:] if len(x) > 1 else x, data))"
   ]
  },
  {
   "cell_type": "code",
   "execution_count": 84,
   "metadata": {},
   "outputs": [],
   "source": [
    "def expandList(x):\n",
    "    if len(x) == 1:\n",
    "        return [x]\n",
    "    else:\n",
    "        temp = []\n",
    "        for m in x[1].split('\\n'):\n",
    "            temp.append([x[0],m.strip('\" ')])\n",
    "        return temp"
   ]
  },
  {
   "cell_type": "code",
   "execution_count": 85,
   "metadata": {},
   "outputs": [],
   "source": [
    "def extends(x,y):\n",
    "    x.extend(y)\n",
    "    return x"
   ]
  },
  {
   "cell_type": "code",
   "execution_count": 86,
   "metadata": {},
   "outputs": [],
   "source": [
    "from functools import reduce"
   ]
  },
  {
   "cell_type": "code",
   "execution_count": 87,
   "metadata": {},
   "outputs": [],
   "source": [
    "res = reduce(extends, list(map(expandList, data)), [])"
   ]
  },
  {
   "cell_type": "code",
   "execution_count": 88,
   "metadata": {},
   "outputs": [
    {
     "data": {
      "text/plain": [
       "101"
      ]
     },
     "execution_count": 88,
     "metadata": {},
     "output_type": "execute_result"
    }
   ],
   "source": [
    "len(res)"
   ]
  },
  {
   "cell_type": "code",
   "execution_count": 89,
   "metadata": {},
   "outputs": [
    {
     "data": {
      "text/plain": [
       "[['Prime Minister'],\n",
       " ['Shri Narendra Modi', 'Personnel, Public Grievances and Pensions'],\n",
       " ['Shri Narendra Modi', 'Department of Atomic Energy'],\n",
       " ['Shri Narendra Modi', 'Department of Space'],\n",
       " ['Shri Narendra Modi', 'All important policy issues'],\n",
       " ['Shri Narendra Modi',\n",
       "  'and all other portfolios not allocated to any Minister'],\n",
       " ['Cabinet Ministers'],\n",
       " ['Shri Raj Nath Singh', 'Home Affairs'],\n",
       " ['Smt. Sushma Swaraj', 'External Affairs'],\n",
       " ['Shri Arun Jaitley', 'Finance'],\n",
       " ['Shri Arun Jaitley', 'Corporate Affairs'],\n",
       " ['Shri Arun Jaitley', 'Information and Broadcasting'],\n",
       " ['Shri M. Venkaiah Naidu', 'Urban Development'],\n",
       " ['Shri M. Venkaiah Naidu', 'Housing and Urban Poverty Alleviation'],\n",
       " ['Shri M. Venkaiah Naidu', 'Parliamentary Affairs'],\n",
       " ['Shri Nitin Jairam Gadkari', 'Road Transport and Highways'],\n",
       " ['Shri Nitin Jairam Gadkari', 'Shipping'],\n",
       " ['Shri Manohar Parrikar', 'Defence'],\n",
       " ['Shri Suresh Prabhu', 'Railways'],\n",
       " ['Shri D. V. Sadananda Gowda', 'Law and Justice'],\n",
       " ['Sushri Uma Bharati',\n",
       "  'Water Resources, River Development and Ganga Rejuvenation'],\n",
       " ['Dr. Najma A. Heptulla', 'Minority Affairs'],\n",
       " ['Shri Ramvilas Paswan', 'Consumer Affairs, Food and Public Distribution'],\n",
       " ['Shri Kalraj Mishra', 'Micro, Small and Medium Enterprises'],\n",
       " ['Smt. Maneka Sanjay Gandhi', 'Women and Child Development'],\n",
       " ['Shri Ananthkumar', 'Chemicals and Fertilizers'],\n",
       " ['Shri Ravi Shankar Prasad', 'Communications and Information Technology'],\n",
       " ['Shri Jagat Prakash Nadda', 'Health and Family Welfare'],\n",
       " ['Shri Ashok Gajapathi Raju Pusapati', 'Civil Aviation'],\n",
       " ['Shri Anant Geete', 'Heavy Industries and Public Enterprises'],\n",
       " ['Smt. Harsimrat Kaur Badal', 'Food Processing Industries'],\n",
       " ['Shri Narendra Singh Tomar', 'Mines'],\n",
       " ['Shri Narendra Singh Tomar', 'Steel'],\n",
       " ['Shri Chaudhary Birender Singh', 'Rural Development'],\n",
       " ['Shri Chaudhary Birender Singh', 'Panchayati Raj'],\n",
       " ['Shri Chaudhary Birender Singh', 'Drinking Water and Sanitation'],\n",
       " ['Shri Jual Oram', 'Tribal Affairs'],\n",
       " ['Shri Radha Mohan Singh', 'Agriculture'],\n",
       " ['Shri Thawar Chand Gehlot', 'Social Justice and Empowerment'],\n",
       " ['Smt. Smriti Zubin Irani', 'Human Resource Development'],\n",
       " ['Dr. Harsh Vardhan', 'Science and Technology'],\n",
       " ['Dr. Harsh Vardhan', 'Earth Sciences'],\n",
       " ['Ministers of State (Independent Charge)'],\n",
       " ['General V. K. Singh',\n",
       "  'Statistics and Programme Implementation (Independent Charge)'],\n",
       " ['General V. K. Singh', 'External Affairs'],\n",
       " ['General V. K. Singh', 'Overseas Indian Affairs'],\n",
       " ['Shri Inderjit Singh Rao', 'Planning (Independent Charge)'],\n",
       " ['Shri Inderjit Singh Rao', 'Defence'],\n",
       " ['Shri Santosh Kumar Gangwar', 'Textiles (Independent Charge)'],\n",
       " ['Shri Bandaru Dattatreya', 'Labour and Employment (Independent Charge)'],\n",
       " ['Shri Rajiv Pratap Rudy',\n",
       "  'Skill Development and Entrepreneurship (Independent Charge)'],\n",
       " ['Shri Rajiv Pratap Rudy', 'Parliamentary Affairs'],\n",
       " ['Shri Shripad Yesso Naik',\n",
       "  'Ayurveda, Yoga & Naturopathy, Unani, Siddha and Homoeopathy (AYUSH), (Independent Charge)'],\n",
       " ['Shri Shripad Yesso Naik', 'Health and Family Welfare'],\n",
       " ['Shri Dharmendra Pradhan', 'Petroleum and Natural Gas (Independent Charge)'],\n",
       " ['Shri Sarbananda Sonowal[Since Demitted office]',\n",
       "  'Youth Affairs and Sports (Independent Charge)'],\n",
       " ['Shri Prakash Javadekar',\n",
       "  'Environment, Forest and Climate Change (Independent Charge)'],\n",
       " ['Shri Piyush Goyal', 'Power (Independent Charge)'],\n",
       " ['Shri Piyush Goyal', 'Coal (Independent Charge)'],\n",
       " ['Shri Piyush Goyal', 'New and Renewable Energy (Independent Charge)'],\n",
       " ['Dr. Jitendra Singh',\n",
       "  'Development of North Eastern Region (Independent Charge);'],\n",
       " ['Dr. Jitendra Singh',\n",
       "  'Minister of State (Independent Charge) of the Ministry of Youth Affairs & Sports;'],\n",
       " ['Dr. Jitendra Singh', 'Prime Minister’s Office;'],\n",
       " ['Dr. Jitendra Singh', 'Personnel, Public Grievances & Pensions;'],\n",
       " ['Dr. Jitendra Singh', 'Department of Atomic Energy;'],\n",
       " ['Dr. Jitendra Singh', 'Department of Space'],\n",
       " ['Smt. Nirmala Sitharaman', 'Commerce and Industry (Independent Charge)'],\n",
       " ['Dr. Mahesh Sharma', 'Tourism (Independent Charge)'],\n",
       " ['Dr. Mahesh Sharma', 'Culture (Independent Charge)'],\n",
       " ['Dr. Mahesh Sharma', 'Civil Aviation'],\n",
       " ['Ministers of State'],\n",
       " ['Shri Mukhtar Abbas Naqvi', 'Minority Affairs'],\n",
       " ['Shri Mukhtar Abbas Naqvi', 'Parliamentary Affairs'],\n",
       " ['Shri Ram Kripal Yadav', 'Drinking Water and Sanitation'],\n",
       " ['Shri Haribhai Parathibhai Chaudhary', 'Home Affairs'],\n",
       " ['Shri Sanwar Lal Jat',\n",
       "  'Water Resources, River Development and Ganga Rejuvenation'],\n",
       " ['Shri Mohanbhai Kalyanjibhai Kundariya', 'Agriculture'],\n",
       " ['Shri Giriraj Singh', 'Micro, Small and Medium Enterprises'],\n",
       " ['Shri Hansraj Gangaram Ahir', 'Chemicals and Fertilizers'],\n",
       " ['Shri G. M. Siddeshwara', 'Heavy Industries and Public Enterprises'],\n",
       " ['Shri Manoj Sinha', 'Railways'],\n",
       " ['Shri Nihalchand', 'Panchayati Raj'],\n",
       " ['Shri Upendra Kushwaha', 'Human Resource Development'],\n",
       " ['Shri Radhakrishnan P', 'Road Transport and Highways'],\n",
       " ['Shri Radhakrishnan P', 'Shipping'],\n",
       " ['Shri Kiren Rijiju', 'Home Affairs'],\n",
       " ['Shri Krishan Pal', 'Social Justice and Empowerment'],\n",
       " ['Dr. Sanjeev Kumar Balyan', 'Agriculture'],\n",
       " ['Shri Mansukhbhai Dhanjibhai Vasava', 'Tribal Affairs'],\n",
       " ['Shri Vishnu Deo Sai', 'Mines'],\n",
       " ['Shri Vishnu Deo Sai', 'Steel'],\n",
       " ['Shri Sudarshan Bhagat', 'Rural Development'],\n",
       " ['Prof. (Dr.) Ram Shankar Katheria', 'Human Resource Development'],\n",
       " ['Shri Y. S. Chowdary', 'Science and Technology'],\n",
       " ['Shri Y. S. Chowdary', 'Earth Sciences'],\n",
       " ['Shri Jayant Sinha', 'Finance'],\n",
       " ['Col Rajyavardhan Singh Rathore (Retd.) AVSM',\n",
       "  'Information and Broadcasting'],\n",
       " ['Shri Babul Supriyo', 'Urban Development'],\n",
       " ['Shri Babul Supriyo', 'Housing and Urban Poverty Alleviation'],\n",
       " ['Sadhvi Niranjan Jyoti', 'Food Processing Industries'],\n",
       " ['Shri Vijay Sampla', 'Social Justice and Empowerment']]"
      ]
     },
     "execution_count": 89,
     "metadata": {},
     "output_type": "execute_result"
    }
   ],
   "source": [
    "res"
   ]
  },
  {
   "cell_type": "code",
   "execution_count": 76,
   "metadata": {},
   "outputs": [],
   "source": [
    "import csv"
   ]
  },
  {
   "cell_type": "code",
   "execution_count": 77,
   "metadata": {},
   "outputs": [],
   "source": [
    "with open('Ministers2014-15.csv', 'w') as fil:\n",
    "    writer = csv.writer(fil)\n",
    "    for row in res:\n",
    "        writer.writerow(row)"
   ]
  },
  {
   "cell_type": "code",
   "execution_count": 1,
   "metadata": {},
   "outputs": [],
   "source": [
    "import pandas as pd"
   ]
  },
  {
   "cell_type": "code",
   "execution_count": 2,
   "metadata": {},
   "outputs": [],
   "source": [
    "folder = '/home/manikaran/M.tech/Minor project/data/CSR_NEW_FILES/'"
   ]
  },
  {
   "cell_type": "code",
   "execution_count": 3,
   "metadata": {},
   "outputs": [],
   "source": [
    "minDf = pd.read_csv(folder + 'Ministers2014-15.csv')"
   ]
  },
  {
   "cell_type": "code",
   "execution_count": 4,
   "metadata": {},
   "outputs": [
    {
     "data": {
      "text/html": [
       "<div>\n",
       "<style scoped>\n",
       "    .dataframe tbody tr th:only-of-type {\n",
       "        vertical-align: middle;\n",
       "    }\n",
       "\n",
       "    .dataframe tbody tr th {\n",
       "        vertical-align: top;\n",
       "    }\n",
       "\n",
       "    .dataframe thead th {\n",
       "        text-align: right;\n",
       "    }\n",
       "</style>\n",
       "<table border=\"1\" class=\"dataframe\">\n",
       "  <thead>\n",
       "    <tr style=\"text-align: right;\">\n",
       "      <th></th>\n",
       "      <th>ministers</th>\n",
       "      <th>ministry</th>\n",
       "      <th>code</th>\n",
       "      <th>LokSabhaConstituency</th>\n",
       "      <th>RajyaSabhaMember</th>\n",
       "      <th>Unnamed: 5</th>\n",
       "    </tr>\n",
       "  </thead>\n",
       "  <tbody>\n",
       "    <tr>\n",
       "      <th>0</th>\n",
       "      <td>Shri Narendra Modi</td>\n",
       "      <td>Personnel, Public Grievances and Pensions</td>\n",
       "      <td>8.0</td>\n",
       "      <td>Varanasi</td>\n",
       "      <td>NaN</td>\n",
       "      <td>NaN</td>\n",
       "    </tr>\n",
       "    <tr>\n",
       "      <th>1</th>\n",
       "      <td>Shri Narendra Modi</td>\n",
       "      <td>Department of Atomic Energy</td>\n",
       "      <td>NaN</td>\n",
       "      <td>Varanasi</td>\n",
       "      <td>NaN</td>\n",
       "      <td>NaN</td>\n",
       "    </tr>\n",
       "    <tr>\n",
       "      <th>2</th>\n",
       "      <td>Shri Narendra Modi</td>\n",
       "      <td>Department of Space</td>\n",
       "      <td>NaN</td>\n",
       "      <td>Varanasi</td>\n",
       "      <td>NaN</td>\n",
       "      <td>NaN</td>\n",
       "    </tr>\n",
       "    <tr>\n",
       "      <th>3</th>\n",
       "      <td>Shri Raj Nath Singh</td>\n",
       "      <td>Home Affairs</td>\n",
       "      <td>33.0</td>\n",
       "      <td>Lucknow</td>\n",
       "      <td>NaN</td>\n",
       "      <td>NaN</td>\n",
       "    </tr>\n",
       "    <tr>\n",
       "      <th>4</th>\n",
       "      <td>Smt. Sushma Swaraj</td>\n",
       "      <td>External Affairs</td>\n",
       "      <td>28.0</td>\n",
       "      <td>Vidisha</td>\n",
       "      <td>NaN</td>\n",
       "      <td>NaN</td>\n",
       "    </tr>\n",
       "  </tbody>\n",
       "</table>\n",
       "</div>"
      ],
      "text/plain": [
       "             ministers                                   ministry  code  \\\n",
       "0   Shri Narendra Modi  Personnel, Public Grievances and Pensions   8.0   \n",
       "1   Shri Narendra Modi                Department of Atomic Energy   NaN   \n",
       "2   Shri Narendra Modi                        Department of Space   NaN   \n",
       "3  Shri Raj Nath Singh                               Home Affairs  33.0   \n",
       "4   Smt. Sushma Swaraj                           External Affairs  28.0   \n",
       "\n",
       "  LokSabhaConstituency  RajyaSabhaMember Unnamed: 5  \n",
       "0             Varanasi               NaN        NaN  \n",
       "1             Varanasi               NaN        NaN  \n",
       "2             Varanasi               NaN        NaN  \n",
       "3              Lucknow               NaN        NaN  \n",
       "4              Vidisha               NaN        NaN  "
      ]
     },
     "execution_count": 4,
     "metadata": {},
     "output_type": "execute_result"
    }
   ],
   "source": [
    "minDf.head()"
   ]
  },
  {
   "cell_type": "code",
   "execution_count": 12,
   "metadata": {},
   "outputs": [],
   "source": [
    "import numpy as np"
   ]
  },
  {
   "cell_type": "code",
   "execution_count": 26,
   "metadata": {},
   "outputs": [
    {
     "name": "stdout",
     "output_type": "stream",
     "text": [
      "Shri Arun Jaitley\n",
      "Shri Arun Jaitley\n",
      "Shri Arun Jaitley\n",
      "Shri M. Venkaiah Naidu\n",
      "Shri M. Venkaiah Naidu\n",
      "Shri M. Venkaiah Naidu\n",
      "Shri Manohar Parrikar\n",
      "Shri Suresh Prabhu\n",
      "Dr. Najma A. Heptulla\n",
      "Shri Ravi Shankar Prasad\n",
      "Shri Jagat Prakash Nadda\n",
      "Shri Thawar Chand Gehlot\n",
      "Smt. Smriti Zubin Irani\n",
      "Shri Dharmendra Pradhan\n",
      "Shri Prakash Javadekar\n",
      "Shri Piyush Goyal\n",
      "Shri Piyush Goyal\n",
      "Shri Piyush Goyal\n",
      "Smt. Nirmala Sitharaman\n",
      "Shri Mukhtar Abbas Naqvi\n",
      "Shri Mukhtar Abbas Naqvi\n",
      "Shri Y. S. Chowdary\n",
      "Shri Y. S. Chowdary\n"
     ]
    }
   ],
   "source": [
    "ministers = dict()\n",
    "for i in range(minDf.shape[0]):\n",
    "    name = minDf.iloc[i]['ministers']\n",
    "    if pd.isna(minDf.iloc[i]['LokSabhaConstituency']):\n",
    "        print(name)\n",
    "        continue\n",
    "    if name in ministers:\n",
    "        ministers[name]['ministry'].append(minDf.iloc[i]['ministry'])\n",
    "        if not pd.isna(minDf.iloc[i]['code']):\n",
    "            ministers[name]['minCode'].append(minDf.iloc[i]['code'])\n",
    "        if ministers[name]['LokSabhaConstituency'] != minDf.iloc[i]['LokSabhaConstituency']:\n",
    "            print('Constituency not matched', ministers[name])\n",
    "    else:\n",
    "        ministers[name] = dict()\n",
    "        ministers[name]['ministry'] = [minDf.iloc[i]['ministry']]\n",
    "        ministers[name]['minCode'] = [minDf.iloc[i]['code']]\n",
    "        ministers[name]['LokSabhaConstituency'] = minDf.iloc[i]['LokSabhaConstituency']"
   ]
  },
  {
   "cell_type": "code",
   "execution_count": 40,
   "metadata": {},
   "outputs": [],
   "source": [
    "df = pd.DataFrame.from_dict(ministers, orient='index')\n",
    "df.reset_index(inplace=True)\n",
    "df.rename(mapper={'index':'ministers'}, axis=1, inplace=True)\n",
    "#df.to_csv(folder + 'ministers2014-15Final.csv')"
   ]
  },
  {
   "cell_type": "code",
   "execution_count": null,
   "metadata": {},
   "outputs": [],
   "source": []
  }
 ],
 "metadata": {
  "kernelspec": {
   "display_name": "Python 3",
   "language": "python",
   "name": "python3"
  },
  "language_info": {
   "codemirror_mode": {
    "name": "ipython",
    "version": 3
   },
   "file_extension": ".py",
   "mimetype": "text/x-python",
   "name": "python",
   "nbconvert_exporter": "python",
   "pygments_lexer": "ipython3",
   "version": "3.6.5"
  }
 },
 "nbformat": 4,
 "nbformat_minor": 2
}
