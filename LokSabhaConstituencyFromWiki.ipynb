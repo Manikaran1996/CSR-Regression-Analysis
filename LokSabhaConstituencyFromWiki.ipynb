{
 "cells": [
  {
   "cell_type": "code",
   "execution_count": 23,
   "metadata": {},
   "outputs": [],
   "source": [
    "import requests\n",
    "import pandas as pd\n",
    "from bs4 import BeautifulSoup"
   ]
  },
  {
   "cell_type": "code",
   "execution_count": 24,
   "metadata": {},
   "outputs": [],
   "source": [
    "url = 'https://en.wikipedia.org/wiki/{}_district'"
   ]
  },
  {
   "cell_type": "code",
   "execution_count": 41,
   "metadata": {},
   "outputs": [],
   "source": [
    "unmappedDistrictsDf = pd.read_csv('unmappedDistricts.csv', header=None, names=['districts', 'state'])"
   ]
  },
  {
   "cell_type": "code",
   "execution_count": 42,
   "metadata": {},
   "outputs": [],
   "source": [
    "notFound = []\n",
    "data = []\n",
    "for i in range(unmappedDistrictsDf.shape[0]):\n",
    "    d = unmappedDistrictsDf.iloc[i]['districts']\n",
    "    s = unmappedDistrictsDf.iloc[i]['state']\n",
    "    response = requests.get(url.format(d.replace(' ', '_')))\n",
    "    if response.ok:\n",
    "        html = response.text\n",
    "        soup = BeautifulSoup(html, 'html.parser')\n",
    "        rows = soup.findAll('tr', attrs={'class':'mergedrow'})\n",
    "        for r in rows:\n",
    "            header = r.find('th')\n",
    "            val = r.find('td')\n",
    "            if header.text.strip().endswith('Lok Sabha constituencies'):\n",
    "                data.append([d, val.text.strip()])\n",
    "                break\n",
    "        else:\n",
    "            notFound.append([d,s])\n",
    "              "
   ]
  },
  {
   "cell_type": "code",
   "execution_count": 43,
   "metadata": {},
   "outputs": [
    {
     "data": {
      "text/plain": [
       "71"
      ]
     },
     "execution_count": 43,
     "metadata": {},
     "output_type": "execute_result"
    }
   ],
   "source": [
    "len(notFound)"
   ]
  },
  {
   "cell_type": "code",
   "execution_count": 44,
   "metadata": {},
   "outputs": [
    {
     "data": {
      "text/plain": [
       "[['Kurung Kumey', 'Arunachal Pradesh'],\n",
       " ['Longding', 'Arunachal Pradesh'],\n",
       " ['Lower Dibang Valley', 'Arunachal Pradesh'],\n",
       " ['Lower Siang', 'Arunachal Pradesh'],\n",
       " ['Papum Pare', 'Arunachal Pradesh'],\n",
       " ['Siang', 'Arunachal Pradesh'],\n",
       " ['Upper Siang', 'Arunachal Pradesh'],\n",
       " ['Baksa', 'Assam'],\n",
       " ['Biswanath', 'Assam'],\n",
       " ['Charaideo', 'Assam'],\n",
       " ['Majuli', 'Assam'],\n",
       " ['Balod', 'Chhattisgarh'],\n",
       " ['Baloda Bazar', 'Chhattisgarh'],\n",
       " ['Bemetara', 'Chhattisgarh'],\n",
       " ['Bijapur', 'Chhattisgarh'],\n",
       " ['Kondagaon', 'Chhattisgarh'],\n",
       " ['Mungeli', 'Chhattisgarh'],\n",
       " ['Narayanpur', 'Chhattisgarh'],\n",
       " ['Sukma', 'Chhattisgarh'],\n",
       " ['Surajpur', 'Chhattisgarh'],\n",
       " ['Aravalli', 'Gujarat'],\n",
       " ['Botad', 'Gujarat'],\n",
       " ['Chhota Udaipur', 'Gujarat'],\n",
       " ['Devbhoomi Dwarka', 'Gujarat'],\n",
       " ['Gir Somnath', 'Gujarat'],\n",
       " ['Mahisagar', 'Gujarat'],\n",
       " ['Morbi', 'Gujarat'],\n",
       " ['Tapi', 'Gujarat'],\n",
       " ['Charkhi Dadri', 'Haryana'],\n",
       " ['Ramanagara', 'Karnataka'],\n",
       " ['Yadgir', 'Karnataka'],\n",
       " ['Agar Malwa', 'Madhya Pradesh'],\n",
       " ['Palghar', 'Maharashtra'],\n",
       " ['Jiribam', 'Manipur'],\n",
       " ['Kakching', 'Manipur'],\n",
       " ['Kamjong', 'Manipur'],\n",
       " ['Kangpokpi', 'Manipur'],\n",
       " ['Noney', 'Manipur'],\n",
       " ['Pherzawl', 'Manipur'],\n",
       " ['Tengnoupal', 'Manipur'],\n",
       " ['East Jaintia Hills', 'Meghalaya'],\n",
       " ['North Garo Hills', 'Meghalaya'],\n",
       " ['South West Garo Hills', 'Meghalaya'],\n",
       " ['South West Khasi Hills', 'Meghalaya'],\n",
       " ['Dimapur', 'Nagaland'],\n",
       " ['Kiphire', 'Nagaland'],\n",
       " ['Longleng', 'Nagaland'],\n",
       " ['Peren', 'Nagaland'],\n",
       " ['Barnala', 'Punjab'],\n",
       " ['Fazilka', 'Punjab'],\n",
       " ['Pathankot', 'Punjab'],\n",
       " ['Mohali', 'Punjab'],\n",
       " ['Tarn Taran', 'Punjab'],\n",
       " ['Pratapgarh', 'Rajasthan'],\n",
       " ['Bhadradri Kothagudem', 'Telangana'],\n",
       " ['Jangaon', 'Telangana'],\n",
       " ['Jayashankar', 'Telangana'],\n",
       " ['Komaram Bheem', 'Telangana'],\n",
       " ['Medchal', 'Telangana'],\n",
       " ['Sangareddy', 'Telangana'],\n",
       " ['Siddipet', 'Telangana'],\n",
       " ['Vikarabad', 'Telangana'],\n",
       " ['Warangal Rural', 'Telangana'],\n",
       " ['Warangal Urban', 'Telangana'],\n",
       " ['Yadadri Bhuvanagiri', 'Telangana'],\n",
       " ['Gomati', 'Tripura'],\n",
       " ['Khowai', 'Tripura'],\n",
       " ['Sepahijala', 'Tripura'],\n",
       " ['Unakoti', 'Tripura'],\n",
       " ['Hapur', 'Uttar Pradesh'],\n",
       " ['Kanshiram Nagar', 'Uttar Pradesh']]"
      ]
     },
     "execution_count": 44,
     "metadata": {},
     "output_type": "execute_result"
    }
   ],
   "source": [
    "notFound"
   ]
  },
  {
   "cell_type": "code",
   "execution_count": 40,
   "metadata": {},
   "outputs": [
    {
     "data": {
      "text/plain": [
       "[['Anjaw', 'Arunachal East'],\n",
       " ['Kra Daadi', 'Arunachal west'],\n",
       " ['Namsai', 'Arunachal East'],\n",
       " ['Chirang', 'Kokrajhar'],\n",
       " ['Hojai', 'Nowgong'],\n",
       " ['West Karbi Anglong', 'No.3 MP ST Lok Sabha Constituency'],\n",
       " ['Balrampur', 'Shravasti'],\n",
       " ['Gariaband', 'Mahasamund'],\n",
       " ['Mewat', 'Gurugram(Old Name:Gurgaon)'],\n",
       " ['Palwal', 'Faridabad (shared with Faridabad district)'],\n",
       " ['Jamtara', '1. Dumka (shared with Dumka district)'],\n",
       " ['Khunti',\n",
       "  'Khunti (shared with Simdega, Ranchi and Seraikela Kharsawan districts)'],\n",
       " ['Latehar', 'Chatra (shared with Chatra district)'],\n",
       " ['Ramgarh', 'Hazaribagh'],\n",
       " ['Seraikela Kharsawan',\n",
       "  '1. Ranchi (shared with Ranchi district, 2. Singhbhum (shared with West Singhbhum district and 3. Khunti (shared with Khunti district)'],\n",
       " ['Simdega', 'Khunti'],\n",
       " ['Alirajpur', 'Ratlam'],\n",
       " ['Singrauli', 'Sidhi'],\n",
       " ['Jagtial', 'Nizamabad'],\n",
       " ['Jogulamba', '1'],\n",
       " ['Kamareddy', '1'],\n",
       " ['Mahabubabad', 'Mahabubabad'],\n",
       " ['Mancherial', '01'],\n",
       " ['Nagarkurnool', '1 (Nagarkurnool)'],\n",
       " ['Nirmal', 'Adilabad'],\n",
       " ['Peddapalli', 'Peddapalli'],\n",
       " ['Rajanna Sircilla', 'Karimnagar'],\n",
       " ['Suryapet', 'Nalgonda and Bhuvanagiri'],\n",
       " ['Wanaparthy', '1'],\n",
       " ['Amethi', 'Amethi (Lok Sabha constituency)'],\n",
       " ['Sambhal',\n",
       "  '1. Sambhal (Lok Sabha constituency)- Asmoli,  Chandausi, Sambhal2. Budaun (Lok Sabha constituency)- Gunnaur'],\n",
       " ['Alipurduar', 'Alipurduar'],\n",
       " ['Jhargram', 'Jhargram'],\n",
       " ['Kalimpong', 'Darjeeling'],\n",
       " ['Paschim Bardhaman', 'Asansol, Bardhaman-Durgapur,'],\n",
       " ['Purba Bardhaman', 'Bardhaman-Durgapur, Bardhaman Purba, Bishnupur, Bolpur']]"
      ]
     },
     "execution_count": 40,
     "metadata": {},
     "output_type": "execute_result"
    }
   ],
   "source": [
    "data"
   ]
  },
  {
   "cell_type": "code",
   "execution_count": null,
   "metadata": {},
   "outputs": [],
   "source": []
  }
 ],
 "metadata": {
  "kernelspec": {
   "display_name": "Python 3",
   "language": "python",
   "name": "python3"
  },
  "language_info": {
   "codemirror_mode": {
    "name": "ipython",
    "version": 3
   },
   "file_extension": ".py",
   "mimetype": "text/x-python",
   "name": "python",
   "nbconvert_exporter": "python",
   "pygments_lexer": "ipython3",
   "version": "3.6.5"
  }
 },
 "nbformat": 4,
 "nbformat_minor": 2
}
