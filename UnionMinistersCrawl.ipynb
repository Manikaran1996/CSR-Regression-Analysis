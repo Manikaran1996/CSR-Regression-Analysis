{
 "cells": [
  {
   "cell_type": "code",
   "execution_count": 1,
   "metadata": {},
   "outputs": [],
   "source": [
    "import pandas as pd\n",
    "import requests"
   ]
  },
  {
   "cell_type": "code",
   "execution_count": 4,
   "metadata": {},
   "outputs": [],
   "source": [
    "from bs4 import BeautifulSoup"
   ]
  },
  {
   "cell_type": "code",
   "execution_count": 2,
   "metadata": {},
   "outputs": [],
   "source": [
    "url = 'https://en.wikipedia.org/wiki/Modi_ministry'"
   ]
  },
  {
   "cell_type": "code",
   "execution_count": 3,
   "metadata": {},
   "outputs": [],
   "source": [
    "page = requests.get(url).text"
   ]
  },
  {
   "cell_type": "code",
   "execution_count": 6,
   "metadata": {},
   "outputs": [],
   "source": [
    "soup = BeautifulSoup(page, 'html.parser')"
   ]
  },
  {
   "cell_type": "code",
   "execution_count": 8,
   "metadata": {},
   "outputs": [],
   "source": [
    "tables = soup.findAll('table', {\"class\":'wikitable'})"
   ]
  },
  {
   "cell_type": "code",
   "execution_count": 78,
   "metadata": {},
   "outputs": [],
   "source": [
    "cabinet_minister = tables[0]\n",
    "\n",
    "rows = cabinet_minister.findAll('tr')\n",
    "\n",
    "ths = rows[0].findAll('th')\n",
    "headers = []\n",
    "for th in ths:\n",
    "    headers.append(th.text.strip())\n",
    "vals = []\n",
    "for i in range(1,len(rows)):\n",
    "    temp = []\n",
    "    tds = rows[i].findAll('td')\n",
    "    for td in tds:\n",
    "        x = td.text.strip().split('\\n')\n",
    "        if len(x) == 1:\n",
    "            temp.append(x[0])\n",
    "        else:\n",
    "            temp.append(x)\n",
    "    if len(temp) <= 6:\n",
    "        temp = [vals[-1][0]] + temp\n",
    "    vals.append(temp)\n",
    "    #print(len(temp), temp)"
   ]
  },
  {
   "cell_type": "code",
   "execution_count": 79,
   "metadata": {},
   "outputs": [],
   "source": [
    "df = pd.DataFrame(vals)\n",
    "df1 = df.drop(1, axis=1)"
   ]
  },
  {
   "cell_type": "code",
   "execution_count": 80,
   "metadata": {},
   "outputs": [],
   "source": [
    "df1.columns = headers + ['comments']\n",
    "df1.to_csv('./UnionMinisters/CabinetMinisters.csv')"
   ]
  },
  {
   "cell_type": "code",
   "execution_count": 81,
   "metadata": {},
   "outputs": [],
   "source": [
    "independent_charge = tables[1]\n",
    "rows = independent_charge.findAll('tr')\n",
    "ths = rows[0].findAll('th')\n",
    "headers = []\n",
    "for th in ths:\n",
    "    headers.append(th.text.strip())\n",
    "vals = []\n",
    "for i in range(1,len(rows)):\n",
    "    temp = []\n",
    "    tds = rows[i].findAll('td')\n",
    "    for td in tds:\n",
    "        x = td.text.strip().split('\\n')\n",
    "        if len(x) == 1:\n",
    "            temp.append(x[0])\n",
    "        else:\n",
    "            temp.append(x)\n",
    "    #if len(temp) <= 6:\n",
    "    #    temp = [vals[-1][0]] + temp\n",
    "    vals.append(temp)"
   ]
  },
  {
   "cell_type": "code",
   "execution_count": 82,
   "metadata": {},
   "outputs": [],
   "source": [
    "df = pd.DataFrame(vals,  columns=headers)\n",
    "df.to_csv('./UnionMinisters/IndependentChargeMinisters.csv')"
   ]
  },
  {
   "cell_type": "code",
   "execution_count": 83,
   "metadata": {},
   "outputs": [],
   "source": [
    "min_of_state = tables[2]\n",
    "rows = min_of_state.findAll('tr')\n",
    "ths = rows[0].findAll('th')\n",
    "headers = []\n",
    "for th in ths:\n",
    "    headers.append(th.text.strip())\n",
    "vals = []\n",
    "for i in range(1,len(rows)):\n",
    "    temp = []\n",
    "    tds = rows[i].findAll('td')\n",
    "    for td in tds:\n",
    "        x = td.text.strip().split('\\n')\n",
    "        if len(x) == 1:\n",
    "            temp.append(x[0])\n",
    "        else:\n",
    "            temp.append(x)\n",
    "    #if len(temp) <= 6:\n",
    "    #    temp = [vals[-1][0]] + temp\n",
    "    vals.append(temp)"
   ]
  },
  {
   "cell_type": "code",
   "execution_count": 84,
   "metadata": {},
   "outputs": [],
   "source": [
    "df = pd.DataFrame(vals,  columns=headers)\n",
    "df.to_csv('./UnionMinisters/MinistersOfState.csv')"
   ]
  },
  {
   "cell_type": "code",
   "execution_count": 85,
   "metadata": {},
   "outputs": [],
   "source": [
    "df = pd.read_csv('./UnionMinisters/CabinetMinisters.csv')\n",
    "(pd.DataFrame(df['Minister'].unique())).to_csv('./UnionMinisters/CabinetMinisterNames.csv')"
   ]
  },
  {
   "cell_type": "code",
   "execution_count": 86,
   "metadata": {},
   "outputs": [],
   "source": [
    "df = pd.read_csv('./UnionMinisters/IndependentChargeMinisters.csv')\n",
    "(pd.DataFrame(df['Minister'].unique())).to_csv('./UnionMinisters/IndependentChargeMinisterNames.csv')"
   ]
  },
  {
   "cell_type": "code",
   "execution_count": 87,
   "metadata": {},
   "outputs": [],
   "source": [
    "df = pd.read_csv('./UnionMinisters/MinistersOfState.csv')\n",
    "(pd.DataFrame(df['Minister'].unique())).to_csv('./UnionMinisters/MinistersOfStateNames.csv')"
   ]
  },
  {
   "cell_type": "code",
   "execution_count": null,
   "metadata": {},
   "outputs": [],
   "source": []
  }
 ],
 "metadata": {
  "kernelspec": {
   "display_name": "Python 3",
   "language": "python",
   "name": "python3"
  },
  "language_info": {
   "codemirror_mode": {
    "name": "ipython",
    "version": 3
   },
   "file_extension": ".py",
   "mimetype": "text/x-python",
   "name": "python",
   "nbconvert_exporter": "python",
   "pygments_lexer": "ipython3",
   "version": "3.6.5"
  }
 },
 "nbformat": 4,
 "nbformat_minor": 2
}
